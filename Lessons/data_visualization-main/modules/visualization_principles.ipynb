{
 "cells": [
  {
   "cell_type": "markdown",
   "metadata": {
    "slideshow": {
     "slide_type": "slide"
    }
   },
   "source": [
    "<img src=\"http://imgur.com/1ZcRyrc.png\" style=\"float: left; margin: 20px; height: 55px\">\n",
    "\n",
    "# Principles of Data Visualization\n",
    "\n",
    "_Author:_ Dave Yerrington (San Francisco)"
   ]
  },
  {
   "cell_type": "markdown",
   "metadata": {
    "slideshow": {
     "slide_type": "slide"
    },
    "toc-hr-collapsed": false
   },
   "source": [
    "## Why Use Data Visualization?"
   ]
  },
  {
   "cell_type": "markdown",
   "metadata": {
    "slideshow": {
     "slide_type": "notes"
    }
   },
   "source": [
    "Humans are better at spotting patterns in visual displays than in tables of numbers."
   ]
  },
  {
   "cell_type": "markdown",
   "metadata": {
    "slideshow": {
     "slide_type": "slide"
    }
   },
   "source": [
    "### Example: Anscombe's Quartet\n",
    "\n",
    "Below are the summary statistics for four plots. What do you think the visualization for each plot would look like? \n",
    "\n",
    "![summary statistics for four different plots](../assets/images/anscombs_quartet.png)\n",
    "<br>\n",
    "<br>\n",
    "<br>\n",
    "<br>\n",
    "<br>\n",
    "<br>\n",
    "<br>\n",
    "<br>\n",
    "<br>\n",
    "<br>\n",
    "<br>\n",
    "<br>\n",
    "<br>\n",
    "<br>\n",
    "<br><br>\n",
    "<br>\n",
    "<br>"
   ]
  },
  {
   "cell_type": "markdown",
   "metadata": {
    "slideshow": {
     "slide_type": "slide"
    }
   },
   "source": [
    "![anscomb's quartet](../assets/images/anscombs_quartet_visualization.png)"
   ]
  },
  {
   "cell_type": "markdown",
   "metadata": {
    "slideshow": {
     "slide_type": "notes"
    }
   },
   "source": [
    "**Lesson:** Visualization helps you see how your data is structured so that you can model it properly."
   ]
  },
  {
   "cell_type": "markdown",
   "metadata": {
    "slideshow": {
     "slide_type": "slide"
    },
    "toc-hr-collapsed": false
   },
   "source": [
    "## Mapping Variables to Attributes\n",
    "\n",
    "Visualizing data is a matter of mapping **values of variables** to **visual attributes**. Examples of visual attributes:\n",
    "\n",
    "![](../assets/images/data_attributes.png)\n",
    "\n",
    "The most powerful attributes are **position**, then **color**, then **size**."
   ]
  },
  {
   "cell_type": "markdown",
   "metadata": {
    "slideshow": {
     "slide_type": "notes"
    },
    "toc-hr-collapsed": false
   },
   "source": [
    "### Color\n",
    "\n",
    "Generally, in data visualizations, you're going to use color in one of three ways: sequential, divergent, or categorical. "
   ]
  },
  {
   "cell_type": "markdown",
   "metadata": {},
   "source": [
    "#### Sequential Colormaps\n",
    "\n",
    "**Sequential** colors are used to show values ordered from low to high.\n",
    "\n",
    "**Example:**"
   ]
  },
  {
   "cell_type": "markdown",
   "metadata": {
    "slideshow": {
     "slide_type": "slide"
    }
   },
   "source": [
    "![sequential](../assets/images/sequential.png)"
   ]
  },
  {
   "cell_type": "markdown",
   "metadata": {
    "slideshow": {
     "slide_type": "notes"
    }
   },
   "source": [
    "#### Divergent Colormaps\n",
    "\n",
    "**Divergent** colors are used to show ordered values that have a critical midpoint, like an average or zero.\n",
    "\n",
    "**Example:**"
   ]
  },
  {
   "cell_type": "markdown",
   "metadata": {
    "slideshow": {
     "slide_type": "slide"
    }
   },
   "source": [
    "![divergent](../assets/images/divergent.png)"
   ]
  },
  {
   "cell_type": "markdown",
   "metadata": {},
   "source": [
    "#### Categorical Colormaps"
   ]
  },
  {
   "cell_type": "markdown",
   "metadata": {
    "slideshow": {
     "slide_type": "notes"
    }
   },
   "source": [
    "**Categorical** colors are used to distinguish data that falls into distinct groups.\n",
    "\n",
    "**Example:**"
   ]
  },
  {
   "cell_type": "markdown",
   "metadata": {
    "slideshow": {
     "slide_type": "slide"
    }
   },
   "source": [
    "![categorical](../assets/images/categorical.png)\n",
    "\n",
    "[Images via MediaShift](http://mediashift.org/2016/02/checklist-does-your-data-visualization-say-what-you-think-it-says/)"
   ]
  },
  {
   "cell_type": "markdown",
   "metadata": {
    "slideshow": {
     "slide_type": "slide"
    },
    "toc-hr-collapsed": false
   },
   "source": [
    "## Choosing the Right Chart"
   ]
  },
  {
   "cell_type": "markdown",
   "metadata": {
    "slideshow": {
     "slide_type": "slide"
    },
    "toc-hr-collapsed": false
   },
   "source": [
    "### Bar Charts\n",
    "\n",
    "![](https://lenagroeger.s3.amazonaws.com/cuny-fall15/MakeThisChart/nytimes-bar-chart.jpg)"
   ]
  },
  {
   "cell_type": "markdown",
   "metadata": {
    "slideshow": {
     "slide_type": "notes"
    }
   },
   "source": [
    "Bar charts are great because they make it easy to compare across categories based on the **position** of the end of the bar."
   ]
  },
  {
   "cell_type": "markdown",
   "metadata": {
    "slideshow": {
     "slide_type": "slide"
    }
   },
   "source": [
    "### Pie Charts\n",
    "\n",
    "![](http://i.imgur.com/uhTf6Ek.jpg)"
   ]
  },
  {
   "cell_type": "markdown",
   "metadata": {
    "slideshow": {
     "slide_type": "notes"
    }
   },
   "source": [
    "Bar charts are usually better than pie charts because comparing the positions of the ends of the bars is easier than comparing the angles of the pie wedges."
   ]
  },
  {
   "cell_type": "markdown",
   "metadata": {
    "slideshow": {
     "slide_type": "slide"
    }
   },
   "source": [
    "### Scatter Plots\n",
    "\n",
    "![](../assets/images/scatter_plot.png)\n",
    "[Scatter plot via Wikibooks](https://en.wikibooks.org/wiki/Statistics/Displaying_Data/Scatter_Graphs)"
   ]
  },
  {
   "cell_type": "markdown",
   "metadata": {
    "slideshow": {
     "slide_type": "notes"
    }
   },
   "source": [
    "Scatter plots are great for seeing the relationship between two variables."
   ]
  },
  {
   "cell_type": "markdown",
   "metadata": {
    "slideshow": {
     "slide_type": "slide"
    },
    "toc-hr-collapsed": false
   },
   "source": [
    "### Histograms \n",
    "\n",
    "![](../assets/images/histogram_chart.jpg)"
   ]
  },
  {
   "cell_type": "markdown",
   "metadata": {
    "slideshow": {
     "slide_type": "notes"
    }
   },
   "source": [
    "Histograms are useful when you want to see how a numeric variable is distributed.\n",
    "\n",
    "A **histogram** is a plot of frequency against a *binned continuous variable*, whereas a **bar plot** is a plot of values against a *categorical variable*.\n",
    "\n",
    "Typically, bars are connected in a histogram, but not in a bar plot."
   ]
  },
  {
   "cell_type": "markdown",
   "metadata": {
    "toc-hr-collapsed": false
   },
   "source": [
    "## Visualization Tools"
   ]
  },
  {
   "cell_type": "markdown",
   "metadata": {
    "slideshow": {
     "slide_type": "slide"
    }
   },
   "source": [
    "### Programming Libraries\n",
    "\n",
    "#### General\n",
    "\n",
    "- **[Matplotlib](https://matplotlib.org/)**\n",
    "    - Inspired by Matlab's plotting functions\n",
    "    - Produces publication-quality static plots\n",
    "    - Gives the user a lot of control\n",
    "    - Somewhat clunky\n",
    "    - Limited interactive plotting capabilities\n",
    "- **[Seaborn](https://seaborn.pydata.org/)**\n",
    "    - Extends matplotlib\n",
    "    - Provides convenience functions for statistical data visualization\n",
    "- **[Bokeh](http://bokeh.pydata.org/en/latest/)**\n",
    "    - Provides interactive plots for the web\n",
    "    - Has a more modern interface\n",
    "    - Less flexible than matplotlib\n",
    "- **[Plotly](https://plot.ly/python/)**\n",
    "    - Provides interactive plots for the web\n",
    "    - Integrates nicely into the [Dash](https://dash.plot.ly/) framework for building interactive dashboards.\n",
    "    - Less flexible than matplotlib\n",
    "    \n",
    "#### Specialized   \n",
    " \n",
    "- **[Graphviz](http://graphviz.readthedocs.io/en/stable/manual.html)**\n",
    "    - Visualizes graph data structures (e.g., edges, vertices, etc.)\n",
    "- **[Basemap](http://matplotlib.org/basemap/)**\n",
    "    - Produces static maps\n",
    "- **[Folium](https://python-visualization.github.io/folium/)**\n",
    "    - Produces interactive maps for display in a web browser\n",
    "- **[D3.js](https://d3js.org/)**\n",
    "    - Used by fivethirtyeight, NYTimes, and others to create stunning, high-performance, interactive visualizations for the web (e.g. [What City is the Microbrew Capital of the United States?](https://pudding.cool/2017/04/beer/))\n",
    "    - Low-level Javascript library"
   ]
  },
  {
   "cell_type": "markdown",
   "metadata": {
    "slideshow": {
     "slide_type": "slide"
    },
    "toc-hr-collapsed": true
   },
   "source": [
    "### GUI Tools\n",
    "\n",
    "- **Excel:** For quick data cleaning and simple graphs\n",
    "- **Power BI:** Suite of business analytics tools\n",
    "- **Tableau:** Business intelligence and analytics software\n",
    "- **Periscope Data:** Data analysis platform\n",
    "- [**Chart Studio:**](https://plot.ly/online-chart-maker/) GUI interface to Plotly."
   ]
  }
 ],
 "metadata": {
  "anaconda-cloud": {},
  "kernelspec": {
   "display_name": "Python 3",
   "language": "python",
   "name": "python3"
  },
  "language_info": {
   "codemirror_mode": {
    "name": "ipython",
    "version": 3
   },
   "file_extension": ".py",
   "mimetype": "text/x-python",
   "name": "python",
   "nbconvert_exporter": "python",
   "pygments_lexer": "ipython3",
   "version": "3.8.8"
  }
 },
 "nbformat": 4,
 "nbformat_minor": 4
}
