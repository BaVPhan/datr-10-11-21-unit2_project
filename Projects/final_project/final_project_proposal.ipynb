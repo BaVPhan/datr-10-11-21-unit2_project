{
 "cells": [
  {
   "cell_type": "markdown",
   "id": "95dab7a4-38d0-4933-8059-2bd9efc9f27c",
   "metadata": {},
   "source": [
    "Final Project Proposal\n",
    "\n",
    "Flu Shot Learning: Predict H1N1 and Seasonal Flu Vaccines\n",
    "\n",
    "# Target variable I want to predict:\n",
    "\n",
    "The target variable I want to predict is how likely individuals are to receive the H1N1 vaccine and seasonal flu vaccines. This could be expanded further into those who received both vaccines, H1N1 or seasonal or none. \n",
    "\n",
    "# How predicting the target variable could help with some kind of decision:\n",
    "\n",
    "Perhaps by examining potentially important features such as health_insurance and education_level, we can identify which portion of the population is more or less likely to get vaccinated based on the context of their background and available resources available to them. \n",
    "\n",
    "# The features to use in predicting that target variable:\n",
    "\n",
    "A lot of the features included in the problem can be valuable to the model. However it looks like employment_industry and employment_occupation are missing values for several rows so those can potentially be dropped. As I mentioned above as well, I think health_insurance and education_level could potentially be meaningful value to the model. \n",
    "\n",
    "# Goals and success metrics:\n",
    "\n",
    "Out of the possible outcomes, I believe a false positive would be more detrimental than a false negative for the population of this model. False positive would mean that we predicted the person would get vaccinated but they did not and a false negative would mean the prediction indicates they wouldn't get vaccinated but they did. Therefore, the model's precision would be more valuable as a success metric to avoid false positives.\n",
    "\n",
    "# Risks or limitations:\n",
    "\n",
    "Although the data comes with a wide range of variables and features, there are still a few key features that I think are missing. Details such as vaccination history, prevalence/popularity of H1N1 and/or flu vaccines in the region and even political leanings could be beneficial in the prediction. \n"
   ]
  }
 ],
 "metadata": {
  "kernelspec": {
   "display_name": "Python 3",
   "language": "python",
   "name": "python3"
  },
  "language_info": {
   "codemirror_mode": {
    "name": "ipython",
    "version": 3
   },
   "file_extension": ".py",
   "mimetype": "text/x-python",
   "name": "python",
   "nbconvert_exporter": "python",
   "pygments_lexer": "ipython3",
   "version": "3.8.8"
  }
 },
 "nbformat": 4,
 "nbformat_minor": 5
}
